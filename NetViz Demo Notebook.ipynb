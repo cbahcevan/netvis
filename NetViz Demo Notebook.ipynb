{
 "cells": [
  {
   "cell_type": "markdown",
   "metadata": {},
   "source": [
    "# NetViz Demo \n",
    "<br>\n",
    "Cenk Bahçevan, Kayhan Eryılmaz, Mahsun Altın, Yousef Alkhanafseh "
   ]
  },
  {
   "cell_type": "code",
   "execution_count": null,
   "metadata": {},
   "outputs": [],
   "source": [
    "from netvis.chart.bar import bar\n",
    "from netvis.chart.line import line\n",
    "from netvis.chart.scatter import scatter\n",
    "from netvis.chart.pie import pie \n",
    "\n",
    "import pandas as pd \n",
    "import numpy as np\n",
    "import names\n",
    "import random"
   ]
  },
  {
   "cell_type": "markdown",
   "metadata": {},
   "source": [
    "## Line Chart"
   ]
  },
  {
   "cell_type": "code",
   "execution_count": null,
   "metadata": {
    "scrolled": false
   },
   "outputs": [],
   "source": [
    "x = np.random.randint(low=0, high=100, size=10)\n",
    "y = np.random.randint(low=0, high=100, size=10)\n",
    "x.sort(), y.sort()\n",
    "line_df = pd.DataFrame({'data_x':x,'data_y':y})\n",
    "my_chart = line.LineChart(line_df,\n",
    "                         title=\"New Line Demo\",\n",
    "                         xtitle=\"x title\",\n",
    "                         ytitle=\"ytitle\",\n",
    "                         fontcolor=\"white\",\n",
    "                         theme=\"dark\")\n",
    "my_chart.showChart()"
   ]
  },
  {
   "cell_type": "code",
   "execution_count": null,
   "metadata": {},
   "outputs": [],
   "source": [
    "df = pd.read_csv('https://raw.githubusercontent.com/holtzy/data_to_viz/master/Example_dataset/5_OneCatSevNumOrdered.csv')\n",
    "line_df = df[['year','n','name']]\n",
    "my_chart = line.LineChart(line_df,\n",
    "                         title=\"New Line Demo\",\n",
    "                         xtitle=\"x title\",\n",
    "                         ytitle=\"ytitle\",\n",
    "                         fontcolor=\"white\",\n",
    "                         theme=\"light\")\n",
    "my_chart.showChart()"
   ]
  },
  {
   "cell_type": "markdown",
   "metadata": {},
   "source": [
    "# Scatter Plot"
   ]
  },
  {
   "cell_type": "code",
   "execution_count": null,
   "metadata": {},
   "outputs": [],
   "source": [
    "xx = np.array([0, 199])\n",
    "yy = np.array([0.33, 180])\n",
    "means = [xx.mean(), yy.mean()]  \n",
    "stds = [xx.std() / 3, yy.std() / 3]\n",
    "corr = .95\n",
    "covs = [[stds[0]**2, stds[0]*stds[1]*corr], [stds[0]*stds[1]*corr,stds[1]**2]] \n",
    "m = np.random.multivariate_normal(means, covs, 1000).T\n",
    "scatter_df = pd.DataFrame({'data_x':m[0],'data_y':m[1]})\n",
    "\n",
    "my_scatterplot = scatter.ScatterPlot(scatter_df,\"Positive Correlation Scatter Plot\",\" Scatter X\",\"Y Scatter\")\n",
    "my_scatterplot.showChart()"
   ]
  },
  {
   "cell_type": "code",
   "execution_count": null,
   "metadata": {
    "scrolled": false
   },
   "outputs": [],
   "source": [
    "testDF = pd.DataFrame(columns = ['name','type','data_x','data_y'])\n",
    "\n",
    "xx = np.array([0, 199])\n",
    "yy = np.array([0.33, 180])\n",
    "means = [xx.mean(), yy.mean()]  \n",
    "stds = [xx.std() / 3, yy.std() / 3]\n",
    "corr = .95\n",
    "covs = [[stds[0]**2, stds[0]*stds[1]*corr], [stds[0]*stds[1]*corr,stds[1]**2]] \n",
    "m = np.random.multivariate_normal(means, covs, 500).T\n",
    "\n",
    "\n",
    "name = []\n",
    "types = []\n",
    "\n",
    "for i in range(500):\n",
    "    name.append(names.get_first_name())\n",
    "    types.append(random.randint(1,10))\n",
    "\n",
    "testDF['name'] = name\n",
    "testDF['type'] = types\n",
    "testDF['data_x'] = m[0]\n",
    "testDF['data_y'] = m[1]\n",
    "\n",
    "my_scatterplot = scatter.ScatterPlot(testDF,\"Scatter Plot with Different Types\",\" Scatter X\",\"Y Scatter\")\n",
    "my_scatterplot.showChart()"
   ]
  },
  {
   "cell_type": "markdown",
   "metadata": {},
   "source": [
    "# Bar Chart"
   ]
  },
  {
   "cell_type": "code",
   "execution_count": null,
   "metadata": {
    "scrolled": false
   },
   "outputs": [],
   "source": [
    "my_df = pd.DataFrame(columns=[\"Sehir\", \"Nufus\"])\n",
    "\n",
    "my_df[\"Sehir\"] = [\"Istanbul\", \"Ankara\", \"Bursa\"]\n",
    "my_df[\"Nufus\"] = [15000, 4000, 3000]\n",
    "my_df[\"Color\"] = [\"#5d2f8e\", \"#5d2f8e\", \"#5d2f8e\"]\n",
    "\n",
    "my_bar_chart = bar.BarChart(\n",
    "    my_df, \"Deneme\", \"Sehir\", \"Nufus\", \"Sehir\", \"Nufus\", \"#5d2f8e\")\n",
    "my_bar_chart.setHorizontalLines(True)\n",
    "my_bar_chart.setVerticalLines(True)\n",
    "\n",
    "my_bar_chart.setBarColor(\"#0074D9\")\n",
    "my_bar_chart.setFontColor(\"#85144b\")\n",
    "\n",
    "my_bar_chart.setTitleColor(\"#000\")\n",
    "\n",
    "my_bar_chart.showChart()"
   ]
  },
  {
   "cell_type": "markdown",
   "metadata": {},
   "source": [
    "# Pie Chart "
   ]
  },
  {
   "cell_type": "code",
   "execution_count": null,
   "metadata": {
    "scrolled": false
   },
   "outputs": [],
   "source": [
    "my_pie_chart = pie.PieChart(my_df, \"Deneme\", \"Sehir\", \"Nufus\")\n",
    "my_pie_chart.showChart()"
   ]
  },
  {
   "cell_type": "code",
   "execution_count": null,
   "metadata": {},
   "outputs": [],
   "source": []
  }
 ],
 "metadata": {
  "kernelspec": {
   "display_name": "Python 3",
   "language": "python",
   "name": "python3"
  },
  "language_info": {
   "codemirror_mode": {
    "name": "ipython",
    "version": 3
   },
   "file_extension": ".py",
   "mimetype": "text/x-python",
   "name": "python",
   "nbconvert_exporter": "python",
   "pygments_lexer": "ipython3",
   "version": "3.8.5"
  }
 },
 "nbformat": 4,
 "nbformat_minor": 4
}
